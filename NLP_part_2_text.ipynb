{
 "cells": [
  {
   "cell_type": "markdown",
   "metadata": {},
   "source": [
    "<img src='otus.png'>"
   ]
  },
  {
   "cell_type": "markdown",
   "metadata": {},
   "source": [
    "# Analyzing text data"
   ]
  },
  {
   "cell_type": "markdown",
   "metadata": {},
   "source": [
    "# Thematic modeling"
   ]
  },
  {
   "cell_type": "markdown",
   "metadata": {},
   "source": [
    "A topic is a semantically homogeneous cluster of texts characterized by specialized terminology."
   ]
  },
  {
   "cell_type": "markdown",
   "metadata": {},
   "source": [
    "The thematic model automatically determines which topics each document from the collection of documents relates to, as well as which words (terms) characterize each topic."
   ]
  },
  {
   "cell_type": "markdown",
   "metadata": {},
   "source": [
    "<img src=\"https://upload.wikimedia.org/wikipedia/commons/d/d5/%D0%A2%D0%B5%D0%BC%D0%B0%D1%82%D0%B8%D1%87%D0%B5%D1%81%D0%BA%D0%B0%D1%8F_%D0%BC%D0%BE%D0%B4%D0%B5%D0%BB%D1%8C.png\">"
   ]
  },
  {
   "cell_type": "markdown",
   "metadata": {},
   "source": [
    "## Topic modeling hypotheses\n",
    "\n",
    "- the word order in the document is not important\n",
    "- the order of documents in the collection is not important\n",
    "- each term w in the document is associated with some topic\n",
    "- hypothesis of conditional independence:\n",
    "$$p(w|d,t) = p(w|t)$$"
   ]
  },
  {
   "cell_type": "code",
   "execution_count": 1,
   "metadata": {},
   "outputs": [
    {
     "name": "stderr",
     "output_type": "stream",
     "text": [
      "Downloading 20news dataset. This may take a few minutes.\n",
      "Downloading dataset from https://ndownloader.figshare.com/files/5975967 (14 MB)\n"
     ]
    },
    {
     "name": "stdout",
     "output_type": "stream",
     "text": [
      "Loading dataset...\n",
      "done in 13.066s.\n"
     ]
    }
   ],
   "source": [
    "# Author: Olivier Grisel <olivier.grisel@ensta.org>\n",
    "#         Lars Buitinck\n",
    "#         Chyi-Kwei Yau <chyikwei.yau@gmail.com>\n",
    "# License: BSD 3 clause\n",
    "\n",
    "from __future__ import print_function\n",
    "from time import time\n",
    "\n",
    "from sklearn.feature_extraction.text import TfidfVectorizer, CountVectorizer\n",
    "from sklearn.decomposition import NMF, LatentDirichletAllocation\n",
    "from sklearn.datasets import fetch_20newsgroups\n",
    "\n",
    "n_samples = 2000\n",
    "n_features = 1000\n",
    "n_components = 10\n",
    "n_top_words = 20\n",
    "\n",
    "\n",
    "def print_top_words(model, feature_names, n_top_words):\n",
    "    for topic_idx, topic in enumerate(model.components_):\n",
    "        message = \"Topic #%d: \" % topic_idx\n",
    "        message += \" \".join([feature_names[i]\n",
    "                             for i in topic.argsort()[:-n_top_words - 1:-1]])\n",
    "        print(message)\n",
    "    print()\n",
    "\n",
    "\n",
    "# Load the 20 newsgroups dataset and vectorize it. We use a few heuristics\n",
    "# to filter out useless terms early on: the posts are stripped of headers,\n",
    "# footers and quoted replies, and common English words, words occurring in\n",
    "# only one document or in at least 95% of the documents are removed.\n",
    "\n",
    "print(\"Loading dataset...\")\n",
    "t0 = time()\n",
    "dataset = fetch_20newsgroups(shuffle=True, random_state=1,\n",
    "                             remove=('headers', 'footers', 'quotes'))\n",
    "data_samples = dataset.data[:n_samples]\n",
    "print(\"done in %0.3fs.\" % (time() - t0))"
   ]
  },
  {
   "cell_type": "code",
   "execution_count": 2,
   "metadata": {},
   "outputs": [
    {
     "data": {
      "text/plain": [
       "2000"
      ]
     },
     "execution_count": 2,
     "metadata": {},
     "output_type": "execute_result"
    }
   ],
   "source": [
    "len(data_samples)"
   ]
  },
  {
   "cell_type": "code",
   "execution_count": 3,
   "metadata": {},
   "outputs": [
    {
     "data": {
      "text/plain": [
       "\"Well i'm not sure about the story nad it did seem biased. What\\nI disagree with is your statement that the U.S. Media is out to\\nruin Israels reputation. That is rediculous. The U.S. media is\\nthe most pro-israeli media in the world. Having lived in Europe\\nI realize that incidences such as the one described in the\\nletter have occured. The U.S. media as a whole seem to try to\\nignore them. The U.S. is subsidizing Israels existance and the\\nEuropeans are not (at least not to the same degree). So I think\\nthat might be a reason they report more clearly on the\\natrocities.\\n\\tWhat is a shame is that in Austria, daily reports of\\nthe inhuman acts commited by Israeli soldiers and the blessing\\nreceived from the Government makes some of the Holocaust guilt\\ngo away. After all, look how the Jews are treating other races\\nwhen they got power. It is unfortunate.\\n\""
      ]
     },
     "execution_count": 3,
     "metadata": {},
     "output_type": "execute_result"
    }
   ],
   "source": [
    "data_samples[0]"
   ]
  },
  {
   "cell_type": "code",
   "execution_count": 4,
   "metadata": {},
   "outputs": [
    {
     "name": "stdout",
     "output_type": "stream",
     "text": [
      "Extracting tf-idf features for NMF...\n",
      "done in 0.799s.\n",
      "Extracting tf features for LDA...\n",
      "done in 1.060s.\n",
      "\n",
      "Fitting the NMF model (Frobenius norm) with tf-idf features, n_samples=2000 and n_features=1000...\n",
      "done in 1.496s.\n",
      "\n",
      "Topics in NMF model (Frobenius norm):\n",
      "Topic #0: just people don think like know time good make way really say right ve want did ll new use years\n",
      "Topic #1: windows use dos using window program os drivers application help software pc running ms screen files version card code work\n",
      "Topic #2: god jesus bible faith christian christ christians does heaven sin believe lord life church mary atheism belief human love religion\n",
      "Topic #3: thanks know does mail advance hi info interested email anybody looking card help like appreciated information send list video need\n",
      "Topic #4: car cars tires miles 00 new engine insurance price condition oil power speed good 000 brake year models used bought\n",
      "Topic #5: edu soon com send university internet mit ftp mail cc pub article information hope program mac email home contact blood\n",
      "Topic #6: file problem files format win sound ftp pub read save site help image available create copy running memory self version\n",
      "Topic #7: game team games year win play season players nhl runs goal hockey toronto division flyers player defense leafs bad teams\n",
      "Topic #8: drive drives hard disk floppy software card mac computer power scsi controller apple mb 00 pc rom sale problem internal\n",
      "Topic #9: key chip clipper keys encryption government public use secure enforcement phone nsa communications law encrypted security clinton used legal standard\n",
      "\n",
      "Fitting the NMF model (generalized Kullback-Leibler divergence) with tf-idf features, n_samples=2000 and n_features=1000...\n",
      "done in 3.061s.\n",
      "\n",
      "Topics in NMF model (generalized Kullback-Leibler divergence):\n",
      "Topic #0: just people don like did know make really right think say things time look way didn ve course probably good\n",
      "Topic #1: help thanks windows know hi need using does looking anybody appreciated card mail software use info email ftp available pc\n",
      "Topic #2: does god believe know mean true christians read point jesus christian church come people fact says religion say agree bible\n",
      "Topic #3: know thanks mail interested like new just bike email edu advance want contact really list heard com post hear information\n",
      "Topic #4: 10 new 30 12 20 50 11 sale 16 15 time 14 old power ago good 100 great offer cost\n",
      "Topic #5: number 1993 data subject government new numbers provide information space following com research include large note group major time talk\n",
      "Topic #6: edu problem file com remember try soon article mike files code program sun free send think cases manager little called\n",
      "Topic #7: game year team games world fact second case won said win division play best clearly claim allow example used doesn\n",
      "Topic #8: think don drive hard need bit mac make sure read apple going comes disk computer case pretty drives software ve\n",
      "Topic #9: good just use like doesn got way don ll going does chip better doing bad key want sure bit car\n",
      "\n",
      "Fitting LDA models with tf features, n_samples=2000 and n_features=1000...\n",
      "done in 8.717s.\n",
      "\n",
      "Topics in LDA model:\n",
      "Topic #0: edu com mail send graphics ftp pub available contact university list faq ca information cs 1993 program sun uk mit\n",
      "Topic #1: don like just know think ve way use right good going make sure ll point got need really time doesn\n",
      "Topic #2: christian think atheism faith pittsburgh new bible radio games alt lot just religion like book read play time subject believe\n",
      "Topic #3: drive disk windows thanks use card drives hard version pc software file using scsi help does new dos controller 16\n",
      "Topic #4: hiv health aids disease april medical care research 1993 light information study national service test led 10 page new drug\n",
      "Topic #5: god people does just good don jesus say israel way life know true fact time law want believe make think\n",
      "Topic #6: 55 10 11 18 15 team game 19 period play 23 12 13 flyers 20 25 22 17 24 16\n",
      "Topic #7: car year just cars new engine like bike good oil insurance better tires 000 thing speed model brake driving performance\n",
      "Topic #8: people said did just didn know time like went think children came come don took years say dead told started\n",
      "Topic #9: key space law government public use encryption earth section security moon probe enforcement keys states lunar military crime surface technology\n",
      "\n"
     ]
    }
   ],
   "source": [
    "# Use tf-idf features for NMF.\n",
    "print(\"Extracting tf-idf features for NMF...\")\n",
    "tfidf_vectorizer = TfidfVectorizer(max_df=0.95, min_df=2,\n",
    "                                   max_features=n_features,\n",
    "                                   stop_words='english')\n",
    "t0 = time()\n",
    "tfidf = tfidf_vectorizer.fit_transform(data_samples)\n",
    "print(\"done in %0.3fs.\" % (time() - t0))\n",
    "\n",
    "# Use tf (raw term count) features for LDA.\n",
    "print(\"Extracting tf features for LDA...\")\n",
    "tf_vectorizer = CountVectorizer(max_df=0.95, min_df=2,\n",
    "                                max_features=n_features,\n",
    "                                stop_words='english')\n",
    "t0 = time()\n",
    "tf = tf_vectorizer.fit_transform(data_samples)\n",
    "print(\"done in %0.3fs.\" % (time() - t0))\n",
    "print()\n",
    "\n",
    "# Fit the NMF model\n",
    "print(\"Fitting the NMF model (Frobenius norm) with tf-idf features, \"\n",
    "      \"n_samples=%d and n_features=%d...\"\n",
    "      % (n_samples, n_features))\n",
    "t0 = time()\n",
    "nmf = NMF(n_components=n_components, random_state=1,\n",
    "          alpha=.1, l1_ratio=.5).fit(tfidf)\n",
    "print(\"done in %0.3fs.\" % (time() - t0))\n",
    "\n",
    "print(\"\\nTopics in NMF model (Frobenius norm):\")\n",
    "tfidf_feature_names = tfidf_vectorizer.get_feature_names()\n",
    "print_top_words(nmf, tfidf_feature_names, n_top_words)\n",
    "\n",
    "# Fit the NMF model\n",
    "print(\"Fitting the NMF model (generalized Kullback-Leibler divergence) with \"\n",
    "      \"tf-idf features, n_samples=%d and n_features=%d...\"\n",
    "      % (n_samples, n_features))\n",
    "t0 = time()\n",
    "nmf = NMF(n_components=n_components, random_state=1,\n",
    "          beta_loss='kullback-leibler', solver='mu', max_iter=1000, alpha=.1,\n",
    "          l1_ratio=.5).fit(tfidf)\n",
    "print(\"done in %0.3fs.\" % (time() - t0))\n",
    "\n",
    "print(\"\\nTopics in NMF model (generalized Kullback-Leibler divergence):\")\n",
    "tfidf_feature_names = tfidf_vectorizer.get_feature_names()\n",
    "print_top_words(nmf, tfidf_feature_names, n_top_words)\n",
    "\n",
    "print(\"Fitting LDA models with tf features, \"\n",
    "      \"n_samples=%d and n_features=%d...\"\n",
    "      % (n_samples, n_features))\n",
    "lda = LatentDirichletAllocation(n_components=n_components, max_iter=5,\n",
    "                                learning_method='online',\n",
    "                                learning_offset=50.,\n",
    "                                random_state=0)\n",
    "t0 = time()\n",
    "lda.fit(tf)\n",
    "print(\"done in %0.3fs.\" % (time() - t0))\n",
    "\n",
    "print(\"\\nTopics in LDA model:\")\n",
    "tf_feature_names = tf_vectorizer.get_feature_names()\n",
    "print_top_words(lda, tf_feature_names, n_top_words)"
   ]
  },
  {
   "cell_type": "code",
   "execution_count": 5,
   "metadata": {},
   "outputs": [
    {
     "data": {
      "text/plain": [
       "array([[ 4.96604155,  4.3537397 , 21.42539886, ...,  1.57926488,\n",
       "         1.33933502,  1.20988436],\n",
       "       [ 0.48391034,  1.85845783, 14.04720958, ..., 74.59501615,\n",
       "        59.36116266,  0.27698642],\n",
       "       [ 0.18708486,  0.13728929,  0.31409364, ...,  1.02679042,\n",
       "         2.56259123,  0.13662652],\n",
       "       ...,\n",
       "       [ 3.22343848, 39.1368944 , 11.24910558, ..., 23.37779481,\n",
       "         3.06315114,  0.15230766],\n",
       "       [ 1.41871388, 47.53082031, 16.14390001, ..., 82.46751192,\n",
       "        16.51319941, 28.11660323],\n",
       "       [ 4.02759659,  1.24781464, 13.26101699, ..., 29.0225105 ,\n",
       "         0.24834416,  0.13033208]])"
      ]
     },
     "execution_count": 5,
     "metadata": {},
     "output_type": "execute_result"
    }
   ],
   "source": [
    "lda.components_"
   ]
  },
  {
   "cell_type": "code",
   "execution_count": 6,
   "metadata": {},
   "outputs": [
    {
     "data": {
      "text/plain": [
       "(10, 1000)"
      ]
     },
     "execution_count": 6,
     "metadata": {},
     "output_type": "execute_result"
    }
   ],
   "source": [
    "lda.components_.shape"
   ]
  },
  {
   "cell_type": "markdown",
   "metadata": {},
   "source": [
    "# Naive Bayes\n",
    "* We know the label of each document\n",
    "* Each document has only one label\n"
   ]
  },
  {
   "cell_type": "markdown",
   "metadata": {},
   "source": [
    "What can you do if there is no tag information?\n",
    "#### Clustering problem\n",
    "You can solve using the EM-algorithm:\n",
    "* E-step - calculate expectations of which document relates to which topic\n",
    "* M-step - using Naive Bayes to determine the probabilities $ p (w | t) $ with fixed labels\n"
   ]
  },
  {
   "cell_type": "markdown",
   "metadata": {},
   "source": [
    "## EM algorithm\n",
    "\n",
    "Solves the clustering problem.\n",
    "Selects some model parameters for data in which the answer is unknown.\n",
    "\n",
    "Expectation step:\n",
    "* fix model parameters\n",
    "* count the values ​​of hidden variables\n",
    "Maximization step:\n",
    "* commit hidden variables\n",
    "* calculate model parameters\n",
    "\n",
    "Repeat until convergence.\n",
    "\n",
    "There is a mathematical justification for the fact that the method converges to a local extremum, at each step the value of the likelihood function does not decrease (the likelihood $ p (\\ theta | \\ mathcal {X}) $ - how plausible is the model for the given parameters, how well does it describe the data)\n",
    "\n",
    "A special case of the EM algorithm is ** k-means **.\n",
    "Cluster labels - latent variables\n",
    "Model Parameters - Cluster Centers\n",
    "\n",
    "<img src = \"kmeans.png\">\n",
    "\n",
    "Another variant of the EM algorithm is the separation of a Gaussian Mixture Model (GMM)\n",
    "\n",
    "Model parameters - cluster center and covariance matrix (here describes the shape of the Mogomeric normal distribution, or Gaussian)\n",
    "Hidden variables - the probability of belonging to each Gaussian (the cluster label is chosen as the most likely cluster)\n",
    "\n",
    "\n",
    "<img src=\"gauss.png\">"
   ]
  },
  {
   "cell_type": "markdown",
   "metadata": {},
   "source": [
    "## PLSA\n",
    "\n",
    "What if each document can have many tags?"
   ]
  },
  {
   "cell_type": "markdown",
   "metadata": {},
   "source": [
    "Consider the model:\n",
    "* Each word in document $ d $ is generated from some topic $ t \\ in T $\n",
    "* Document generated by some distribution over topics $ p (t | d) $\n",
    "* Word generated from topic (not from document) $ p (w | d, t) = p (w | d) $\n",
    "* We get the likelihood: $$ p (w | d) = \\ sum_ {t \\ in T} p (w | t) p (t | d) $$"
   ]
  },
  {
   "cell_type": "markdown",
   "metadata": {},
   "source": [
    "The resulting model - probabilistic latent semantic analysis, pLSA, probabilistic latent semantic analysis\n",
    "\n",
    "http://www.machinelearning.ru/wiki/index.php?title=%D0%92%D0%B5%D1%80%D0%BE%D1%8F%D1%82%D0%BD%D0%BE%D1%81%D1%82%D0%BD%D1%8B%D0%B9_%D0%BB%D0%B0%D1%82%D0%B5%D0%BD%D1%82%D0%BD%D1%8B%D0%B9_%D1%81%D0%B5%D0%BC%D0%B0%D0%BD%D1%82%D0%B8%D1%87%D0%B5%D1%81%D0%BA%D0%B8%D0%B9_%D0%B0%D0%BD%D0%B0%D0%BB%D0%B8%D0%B7"
   ]
  },
  {
   "cell_type": "markdown",
   "metadata": {},
   "source": [
    "Training:\n",
    "We need values:\n",
    "* $ p (w | t) $ - probabilities of words in topics, denote $ \\ phi_ {wt} $\n",
    "\n",
    "* $ p (t | d) $ - probabilities of topics in documents, denote $ \\ theta_ {td} $\n",
    "\n",
    "E-step:\n",
    "* fix $ \\ phi_ {wt} $ and $ \\ theta_ {td} $\n",
    "* calculate $$ p (t | d, w) = \\ frac {\\ phi_ {wt} \\ theta_ {td}} {\\ sum_ {s \\ in T} \\ phi_ {ws} \\ theta_ {sd}} $$ for all topics, for each document, for each term\n",
    "* calculate the number of terms that is generated in the document $ d $ by the topic $ t $ $$ n_ {dwt} = n_ {dw} p (t | d, w) $$\n",
    "\n",
    "M-step:\n",
    "* for the calculated $ p (t | d, w) $ update the approximations of the $ \\ phi_ {wt} $ and $ \\ theta_ {td} $ model\n",
    "* $$ n_ {wt} = \\ sum_d n_ {dwt} $$ $$ n_ {td} = \\ sum_ {w \\ in d} n_ {dwt} $$ $$ n_t = \\ sum_w n_ {wt} $$\n",
    "* $$ \\ theta_ {td} = \\ frac {n_ {td}} {n_d} $$ $$ \\ phi_ {wt} = \\ frac {n_ {wt}} {n_t} $$"
   ]
  },
  {
   "cell_type": "markdown",
   "metadata": {},
   "source": [
    "\n",
    "You can not store the matrix $ n_ {dwt} $, but iterate over the documents and sum up $ n_ {wt} $ and $ n_ {td} $\n",
    "* Many local extrema\n",
    "* Many parameters, the model is retrained\n",
    "* It is necessary to achieve not a local minimum, but to achieve interpretability - to find a \"good\" minimum"
   ]
  },
  {
   "cell_type": "markdown",
   "metadata": {},
   "source": [
    "## LDA"
   ]
  },
  {
   "cell_type": "markdown",
   "metadata": {},
   "source": [
    "In general, to improve pLSA, regularization is added to the log likelihood:\n",
    "\n",
    "$$\\sum_{d \\in D} \\sum_{w \\in d} n_{dw} ln \\sum_{t \\in T} \\phi_{wt} \\theta_{td} + \\sum_i \\tau_i R_i(\\Phi, \\Theta)$$"
   ]
  },
  {
   "cell_type": "markdown",
   "metadata": {},
   "source": [
    "If we add the prior distribution - the Dirichlet distribution, we get the LDA - Latent Dirichlet Allocation algorithm\n",
    "\n",
    "As a result, we get a \"good\" interpreted solution (better than with pLSA)"
   ]
  },
  {
   "cell_type": "markdown",
   "metadata": {},
   "source": [
    "One document can contain several topics.\n",
    "We compose a hierarchical model:\n",
    "* the first level is a mixture, the components of which are responsible for the themes\n",
    "* the second level is a multinomial variable with a priori Dirichlet distribution, which determines the \"distribution over topics\" in the document"
   ]
  },
  {
   "cell_type": "markdown",
   "metadata": {},
   "source": [
    "Training:\n",
    "* Gibs sampling\n",
    "* online variational bayes"
   ]
  },
  {
   "cell_type": "markdown",
   "metadata": {},
   "source": [
    "## Scheme for solving NLP problems:\n",
    "1. Data collection:\n",
    "     - API\n",
    "     - site crawling\n",
    "     - known datasets\n",
    "     - Mechanical Turk, Toloka, etc.\n",
    "\n",
    "2. Choice of quality metrics.\n",
    "\n",
    "3. Data preprocessing.\n",
    "\n",
    "4. Vectorization of data.\n",
    "     - Bag Of Words\n",
    "     - TF-IDF\n",
    "     - Word-Embeddings (Word2Vec, Glove, Fasttext)\n",
    "     - Text embeddings (ELMO, Infersent)\n",
    "\n",
    "5. Model selection.\n",
    "     - GridSerch\n",
    "     - RandomSearch\n",
    "\n",
    "First of all, it is worth looking at linear models and neural networks.\n",
    "\n",
    "6. Evaluation of the solution in production.\n",
    "\n",
    "7. GoTo 1."
   ]
  },
  {
   "cell_type": "markdown",
   "metadata": {},
   "source": [
    "### Additional materials\n",
    "\n",
    "http://www.machinelearning.ru/wiki/images/8/82/BMMO11_14.pdf  \n",
    "http://www.machinelearning.ru/wiki/images/f/f7/DirichletProcessNotes.pdf \n",
    "\n",
    "LDA material:\n",
    "- http://www.cs.columbia.edu/~blei/talks/Blei_Topic_Modeling_Workshop_2013.pdf\n",
    "- http://www.cs.columbia.edu/~blei/papers/Blei2012.pdf\n",
    "- http://www.machinelearning.ru/wiki/images/8/82/BMMO11_14.pdf\n",
    "- http://www.machinelearning.ru/wiki/images/f/f7/DirichletProcessNotes.pdf \n",
    "\n",
    "coherence article:\n",
    "- http://www.aclweb.org/anthology/N10-1012\n"
   ]
  },
  {
   "cell_type": "code",
   "execution_count": null,
   "metadata": {},
   "outputs": [],
   "source": []
  }
 ],
 "metadata": {
  "kernelspec": {
   "display_name": "Python 3",
   "language": "python",
   "name": "python3"
  },
  "language_info": {
   "codemirror_mode": {
    "name": "ipython",
    "version": 3
   },
   "file_extension": ".py",
   "mimetype": "text/x-python",
   "name": "python",
   "nbconvert_exporter": "python",
   "pygments_lexer": "ipython3",
   "version": "3.7.6"
  },
  "varInspector": {
   "cols": {
    "lenName": 16,
    "lenType": 16,
    "lenVar": 40
   },
   "kernels_config": {
    "python": {
     "delete_cmd_postfix": "",
     "delete_cmd_prefix": "del ",
     "library": "var_list.py",
     "varRefreshCmd": "print(var_dic_list())"
    },
    "r": {
     "delete_cmd_postfix": ") ",
     "delete_cmd_prefix": "rm(",
     "library": "var_list.r",
     "varRefreshCmd": "cat(var_dic_list()) "
    }
   },
   "types_to_exclude": [
    "module",
    "function",
    "builtin_function_or_method",
    "instance",
    "_Feature"
   ],
   "window_display": false
  }
 },
 "nbformat": 4,
 "nbformat_minor": 4
}
